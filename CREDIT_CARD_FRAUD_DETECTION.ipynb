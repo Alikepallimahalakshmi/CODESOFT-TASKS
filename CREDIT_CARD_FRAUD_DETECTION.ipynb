{
  "nbformat": 4,
  "nbformat_minor": 0,
  "metadata": {
    "colab": {
      "provenance": [],
      "authorship_tag": "ABX9TyP8lSQGENjNvE7ZFNJjtQrQ",
      "include_colab_link": true
    },
    "kernelspec": {
      "name": "python3",
      "display_name": "Python 3"
    },
    "language_info": {
      "name": "python"
    }
  },
  "cells": [
    {
      "cell_type": "markdown",
      "metadata": {
        "id": "view-in-github",
        "colab_type": "text"
      },
      "source": [
        "<a href=\"https://colab.research.google.com/github/Alikepallimahalakshmi/CODESOFT-TASKS/blob/main/CREDIT_CARD_FRAUD_DETECTION.ipynb\" target=\"_parent\"><img src=\"https://colab.research.google.com/assets/colab-badge.svg\" alt=\"Open In Colab\"/></a>"
      ]
    },
    {
      "cell_type": "code",
      "execution_count": null,
      "metadata": {
        "colab": {
          "base_uri": "https://localhost:8080/"
        },
        "id": "hcDbkK1k75ja",
        "outputId": "1adb5234-541b-4a37-d5fe-d521712ebc82"
      },
      "outputs": [
        {
          "output_type": "stream",
          "name": "stdout",
          "text": [
            "Data loaded successfully!\n",
            "\n",
            "Number of NaN values in 'Class' column before handling: 1\n",
            "Number of NaN values in 'Class' column after handling: 0\n",
            "\n",
            "Class Distribution after handling NaN:\n",
            "Class\n",
            "0.0    0.997982\n",
            "1.0    0.002018\n",
            "Name: proportion, dtype: float64\n",
            "\n",
            "Training set shape: (126245, 30)\n",
            "Testing set shape: (54105, 30)\n",
            "\n",
            "Resampled training set shape: (251980, 30)\n",
            "Resampled target distribution:\n",
            "Class\n",
            "0.0    0.5\n",
            "1.0    0.5\n",
            "Name: proportion, dtype: float64\n",
            "\n",
            "Classification Report:\n",
            "              precision    recall  f1-score   support\n",
            "\n",
            "         0.0       1.00      0.98      0.99     53996\n",
            "         1.0       0.08      0.93      0.15       109\n",
            "\n",
            "    accuracy                           0.98     54105\n",
            "   macro avg       0.54      0.95      0.57     54105\n",
            "weighted avg       1.00      0.98      0.99     54105\n",
            "\n",
            "\n",
            "F1-score: 0.1473377097009482\n",
            "AUC: 0.9868194450013628\n"
          ]
        }
      ],
      "source": [
        "import pandas as pd\n",
        "from sklearn.model_selection import train_test_split\n",
        "from sklearn.preprocessing import StandardScaler\n",
        "from sklearn.linear_model import LogisticRegression\n",
        "from sklearn.metrics import classification_report, f1_score, roc_auc_score\n",
        "from imblearn.over_sampling import SMOTE  # For handling class imbalance\n",
        "\n",
        "# Load the dataset\n",
        "try:\n",
        "    data = pd.read_csv('/content/creditcard.csv')\n",
        "    print(\"Data loaded successfully!\")\n",
        "except FileNotFoundError:\n",
        "    print(\"Error: 'creditcard.csv' not found. Please provide the correct file path.\")\n",
        "    data = None\n",
        "\n",
        "if data is not None:\n",
        "    # Check for NaN values in the 'Class' column\n",
        "    print(\"\\nNumber of NaN values in 'Class' column before handling:\", data['Class'].isnull().sum())\n",
        "\n",
        "    # Remove rows where 'Class' is NaN\n",
        "    data_cleaned = data.dropna(subset=['Class'])\n",
        "\n",
        "    # Check the number of NaN values again to confirm removal\n",
        "    print(\"Number of NaN values in 'Class' column after handling:\", data_cleaned['Class'].isnull().sum())\n",
        "\n",
        "    # Separate features (X) and target (y) from the cleaned data\n",
        "    X = data_cleaned.drop('Class', axis=1)\n",
        "    y = data_cleaned['Class']\n",
        "\n",
        "    # Explore class distribution\n",
        "    print(\"\\nClass Distribution after handling NaN:\")\n",
        "    print(y.value_counts(normalize=True))\n",
        "\n",
        "    # Separate 'Time' and 'Amount' for scaling\n",
        "    time_amount = X[['Time', 'Amount']]\n",
        "    pca_features = X.drop(['Time', 'Amount'], axis=1)\n",
        "\n",
        "    # Scale 'Time' and 'Amount'\n",
        "    scaler = StandardScaler()\n",
        "    scaled_time_amount = scaler.fit_transform(time_amount)\n",
        "    scaled_time_amount_df = pd.DataFrame(scaled_time_amount, columns=['Time', 'Amount'])\n",
        "\n",
        "    # Combine scaled features with PCA components\n",
        "    X_scaled = pd.concat([scaled_time_amount_df, pca_features], axis=1)\n",
        "\n",
        "    # Split the data into training and testing sets\n",
        "    X_train, X_test, y_train, y_test = train_test_split(X_scaled, y, test_size=0.3, random_state=42, stratify=y)\n",
        "\n",
        "    print(\"\\nTraining set shape:\", X_train.shape)\n",
        "    print(\"Testing set shape:\", X_test.shape)\n",
        "\n",
        "    # Handle class imbalance using SMOTE (Oversampling the minority class)\n",
        "    smote = SMOTE(random_state=42)\n",
        "    X_train_resampled, y_train_resampled = smote.fit_resample(X_train, y_train)\n",
        "\n",
        "    print(\"\\nResampled training set shape:\", X_train_resampled.shape)\n",
        "    print(\"Resampled target distribution:\")\n",
        "    print(y_train_resampled.value_counts(normalize=True))\n",
        "\n",
        "    # Train a Logistic Regression model\n",
        "    model = LogisticRegression(solver='liblinear', random_state=42)\n",
        "    model.fit(X_train_resampled, y_train_resampled)\n",
        "\n",
        "    # Make predictions on the test set\n",
        "    y_pred = model.predict(X_test)\n",
        "    y_prob = model.predict_proba(X_test)[:, 1]\n",
        "\n",
        "    # Evaluate the model\n",
        "    print(\"\\nClassification Report:\")\n",
        "    print(classification_report(y_test, y_pred))\n",
        "\n",
        "    print(\"\\nF1-score:\", f1_score(y_test, y_pred))\n",
        "    print(\"AUC:\", roc_auc_score(y_test, y_prob))"
      ]
    }
  ]
}